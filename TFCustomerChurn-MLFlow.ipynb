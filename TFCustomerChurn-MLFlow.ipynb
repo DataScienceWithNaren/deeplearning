{
 "cells": [
  {
   "cell_type": "markdown",
   "id": "fed5c1b4-5f33-4670-88a0-3112182e7934",
   "metadata": {},
   "source": [
    "# Assignment 2 - Deep Learning - Customer Churn - Narendra Nagtode"
   ]
  },
  {
   "cell_type": "markdown",
   "id": "0da66b1c-7cc2-44bd-8e26-53d0603b104d",
   "metadata": {},
   "source": [
    "## Import required libraries"
   ]
  },
  {
   "cell_type": "code",
   "execution_count": 51,
   "id": "6e291e9c-4996-413a-8232-77a82b309bd8",
   "metadata": {},
   "outputs": [
    {
     "name": "stdout",
     "output_type": "stream",
     "text": [
      "C:\\Users\\nnagt\\DataScienceWithNaren\n"
     ]
    }
   ],
   "source": [
    "# Check the current directory\n",
    "!cd"
   ]
  },
  {
   "cell_type": "code",
   "execution_count": 52,
   "id": "37d7bdbd-08c9-4947-8a4b-7dad9b6cb044",
   "metadata": {},
   "outputs": [],
   "source": [
    "import pandas as pd\n",
    "import numpy as np\n",
    "import seaborn as sns\n",
    "\n",
    "import matplotlib.pyplot as plt\n",
    "\n",
    "import tensorflow as tf\n",
    "\n",
    "import keras\n",
    "from keras.models import Sequential\n",
    "from keras.layers import Dense\n",
    "from keras.layers import InputLayer \n",
    "from keras.layers import Dropout\n",
    "from keras.constraints import maxnorm\n",
    "\n",
    "import sklearn\n",
    "from sklearn.model_selection import train_test_split\n",
    "from sklearn.metrics import confusion_matrix,ConfusionMatrixDisplay\n",
    "from sklearn.preprocessing import MinMaxScaler\n",
    "from IPython.core.display import HTML\n",
    "\n",
    "import mlflow\n",
    "import mlflow.keras"
   ]
  },
  {
   "cell_type": "code",
   "execution_count": 53,
   "id": "643570ed-7ae0-4268-a268-34920d849a45",
   "metadata": {},
   "outputs": [],
   "source": [
    "df = pd.read_csv(\"customer-churn-dataset.csv\")"
   ]
  },
  {
   "cell_type": "code",
   "execution_count": 54,
   "id": "31baf995-c84f-49c2-bf5b-d237ae360213",
   "metadata": {},
   "outputs": [
    {
     "data": {
      "text/html": [
       "<div>\n",
       "<style scoped>\n",
       "    .dataframe tbody tr th:only-of-type {\n",
       "        vertical-align: middle;\n",
       "    }\n",
       "\n",
       "    .dataframe tbody tr th {\n",
       "        vertical-align: top;\n",
       "    }\n",
       "\n",
       "    .dataframe thead th {\n",
       "        text-align: right;\n",
       "    }\n",
       "</style>\n",
       "<table border=\"1\" class=\"dataframe\">\n",
       "  <thead>\n",
       "    <tr style=\"text-align: right;\">\n",
       "      <th></th>\n",
       "      <th>State</th>\n",
       "      <th>Account length</th>\n",
       "      <th>Area code</th>\n",
       "      <th>International plan</th>\n",
       "      <th>Voice mail plan</th>\n",
       "      <th>Number vmail messages</th>\n",
       "      <th>Total day minutes</th>\n",
       "      <th>Total day calls</th>\n",
       "      <th>Total day charge</th>\n",
       "      <th>Total eve minutes</th>\n",
       "      <th>Total eve calls</th>\n",
       "      <th>Total eve charge</th>\n",
       "      <th>Total night minutes</th>\n",
       "      <th>Total night calls</th>\n",
       "      <th>Total night charge</th>\n",
       "      <th>Total intl minutes</th>\n",
       "      <th>Total intl calls</th>\n",
       "      <th>Total intl charge</th>\n",
       "      <th>Customer service calls</th>\n",
       "      <th>Churn</th>\n",
       "    </tr>\n",
       "  </thead>\n",
       "  <tbody>\n",
       "    <tr>\n",
       "      <th>0</th>\n",
       "      <td>LA</td>\n",
       "      <td>117</td>\n",
       "      <td>408</td>\n",
       "      <td>No</td>\n",
       "      <td>No</td>\n",
       "      <td>0</td>\n",
       "      <td>184.5</td>\n",
       "      <td>97</td>\n",
       "      <td>31.37</td>\n",
       "      <td>351.6</td>\n",
       "      <td>80</td>\n",
       "      <td>29.89</td>\n",
       "      <td>215.8</td>\n",
       "      <td>90</td>\n",
       "      <td>9.71</td>\n",
       "      <td>8.7</td>\n",
       "      <td>4</td>\n",
       "      <td>2.35</td>\n",
       "      <td>1</td>\n",
       "      <td>False</td>\n",
       "    </tr>\n",
       "    <tr>\n",
       "      <th>1</th>\n",
       "      <td>IN</td>\n",
       "      <td>65</td>\n",
       "      <td>415</td>\n",
       "      <td>No</td>\n",
       "      <td>No</td>\n",
       "      <td>0</td>\n",
       "      <td>129.1</td>\n",
       "      <td>137</td>\n",
       "      <td>21.95</td>\n",
       "      <td>228.5</td>\n",
       "      <td>83</td>\n",
       "      <td>19.42</td>\n",
       "      <td>208.8</td>\n",
       "      <td>111</td>\n",
       "      <td>9.40</td>\n",
       "      <td>12.7</td>\n",
       "      <td>6</td>\n",
       "      <td>3.43</td>\n",
       "      <td>4</td>\n",
       "      <td>True</td>\n",
       "    </tr>\n",
       "  </tbody>\n",
       "</table>\n",
       "</div>"
      ],
      "text/plain": [
       "  State  Account length  Area code International plan Voice mail plan  \\\n",
       "0    LA             117        408                 No              No   \n",
       "1    IN              65        415                 No              No   \n",
       "\n",
       "   Number vmail messages  Total day minutes  Total day calls  \\\n",
       "0                      0              184.5               97   \n",
       "1                      0              129.1              137   \n",
       "\n",
       "   Total day charge  Total eve minutes  Total eve calls  Total eve charge  \\\n",
       "0             31.37              351.6               80             29.89   \n",
       "1             21.95              228.5               83             19.42   \n",
       "\n",
       "   Total night minutes  Total night calls  Total night charge  \\\n",
       "0                215.8                 90                9.71   \n",
       "1                208.8                111                9.40   \n",
       "\n",
       "   Total intl minutes  Total intl calls  Total intl charge  \\\n",
       "0                 8.7                 4               2.35   \n",
       "1                12.7                 6               3.43   \n",
       "\n",
       "   Customer service calls  Churn  \n",
       "0                       1  False  \n",
       "1                       4   True  "
      ]
     },
     "execution_count": 54,
     "metadata": {},
     "output_type": "execute_result"
    }
   ],
   "source": [
    "df.head(2)"
   ]
  },
  {
   "cell_type": "code",
   "execution_count": 55,
   "id": "b9686cc9-b73b-4694-861c-23d90eefc2b3",
   "metadata": {},
   "outputs": [
    {
     "data": {
      "text/html": [
       "<div>\n",
       "<style scoped>\n",
       "    .dataframe tbody tr th:only-of-type {\n",
       "        vertical-align: middle;\n",
       "    }\n",
       "\n",
       "    .dataframe tbody tr th {\n",
       "        vertical-align: top;\n",
       "    }\n",
       "\n",
       "    .dataframe thead th {\n",
       "        text-align: right;\n",
       "    }\n",
       "</style>\n",
       "<table border=\"1\" class=\"dataframe\">\n",
       "  <thead>\n",
       "    <tr style=\"text-align: right;\">\n",
       "      <th></th>\n",
       "      <th>State</th>\n",
       "      <th>Account length</th>\n",
       "      <th>Area code</th>\n",
       "      <th>International plan</th>\n",
       "      <th>Voice mail plan</th>\n",
       "      <th>Number vmail messages</th>\n",
       "      <th>Total day minutes</th>\n",
       "      <th>Total day calls</th>\n",
       "      <th>Total day charge</th>\n",
       "      <th>Total eve minutes</th>\n",
       "      <th>Total eve calls</th>\n",
       "      <th>Total eve charge</th>\n",
       "      <th>Total night minutes</th>\n",
       "      <th>Total night calls</th>\n",
       "      <th>Total night charge</th>\n",
       "      <th>Total intl minutes</th>\n",
       "      <th>Total intl calls</th>\n",
       "      <th>Total intl charge</th>\n",
       "      <th>Customer service calls</th>\n",
       "      <th>Churn</th>\n",
       "    </tr>\n",
       "  </thead>\n",
       "  <tbody>\n",
       "    <tr>\n",
       "      <th>0</th>\n",
       "      <td>False</td>\n",
       "      <td>False</td>\n",
       "      <td>False</td>\n",
       "      <td>False</td>\n",
       "      <td>False</td>\n",
       "      <td>False</td>\n",
       "      <td>False</td>\n",
       "      <td>False</td>\n",
       "      <td>False</td>\n",
       "      <td>False</td>\n",
       "      <td>False</td>\n",
       "      <td>False</td>\n",
       "      <td>False</td>\n",
       "      <td>False</td>\n",
       "      <td>False</td>\n",
       "      <td>False</td>\n",
       "      <td>False</td>\n",
       "      <td>False</td>\n",
       "      <td>False</td>\n",
       "      <td>False</td>\n",
       "    </tr>\n",
       "    <tr>\n",
       "      <th>1</th>\n",
       "      <td>False</td>\n",
       "      <td>False</td>\n",
       "      <td>False</td>\n",
       "      <td>False</td>\n",
       "      <td>False</td>\n",
       "      <td>False</td>\n",
       "      <td>False</td>\n",
       "      <td>False</td>\n",
       "      <td>False</td>\n",
       "      <td>False</td>\n",
       "      <td>False</td>\n",
       "      <td>False</td>\n",
       "      <td>False</td>\n",
       "      <td>False</td>\n",
       "      <td>False</td>\n",
       "      <td>False</td>\n",
       "      <td>False</td>\n",
       "      <td>False</td>\n",
       "      <td>False</td>\n",
       "      <td>False</td>\n",
       "    </tr>\n",
       "  </tbody>\n",
       "</table>\n",
       "</div>"
      ],
      "text/plain": [
       "   State  Account length  Area code  International plan  Voice mail plan  \\\n",
       "0  False           False      False               False            False   \n",
       "1  False           False      False               False            False   \n",
       "\n",
       "   Number vmail messages  Total day minutes  Total day calls  \\\n",
       "0                  False              False            False   \n",
       "1                  False              False            False   \n",
       "\n",
       "   Total day charge  Total eve minutes  Total eve calls  Total eve charge  \\\n",
       "0             False              False            False             False   \n",
       "1             False              False            False             False   \n",
       "\n",
       "   Total night minutes  Total night calls  Total night charge  \\\n",
       "0                False              False               False   \n",
       "1                False              False               False   \n",
       "\n",
       "   Total intl minutes  Total intl calls  Total intl charge  \\\n",
       "0               False             False              False   \n",
       "1               False             False              False   \n",
       "\n",
       "   Customer service calls  Churn  \n",
       "0                   False  False  \n",
       "1                   False  False  "
      ]
     },
     "execution_count": 55,
     "metadata": {},
     "output_type": "execute_result"
    }
   ],
   "source": [
    "df.isna().head(2)"
   ]
  },
  {
   "cell_type": "markdown",
   "id": "35ea6d68-e697-4035-be5c-7d8f20dd1795",
   "metadata": {},
   "source": [
    "## Check for missing values"
   ]
  },
  {
   "cell_type": "code",
   "execution_count": 56,
   "id": "8ad1564d-eadb-47a3-a1c2-8303464f9e5c",
   "metadata": {},
   "outputs": [],
   "source": [
    "missing_columns = df.columns[df.isnull().any()]"
   ]
  },
  {
   "cell_type": "code",
   "execution_count": 57,
   "id": "46b96f84-9651-456a-9450-3b7898d66b51",
   "metadata": {},
   "outputs": [],
   "source": [
    "missing_columns_list = missing_columns.tolist()"
   ]
  },
  {
   "cell_type": "code",
   "execution_count": 58,
   "id": "92e6d714-6a57-4c1b-9789-050e3b616fd3",
   "metadata": {},
   "outputs": [
    {
     "name": "stdout",
     "output_type": "stream",
     "text": [
      "List of columns with missing values:  []\n"
     ]
    }
   ],
   "source": [
    "print(\"List of columns with missing values: \", missing_columns_list)"
   ]
  },
  {
   "cell_type": "code",
   "execution_count": 59,
   "id": "e1d20a19-bf56-44f8-8ae4-aa1344cbf98d",
   "metadata": {},
   "outputs": [
    {
     "name": "stderr",
     "output_type": "stream",
     "text": [
      "C:\\Users\\nnagt\\AppData\\Local\\Temp\\ipykernel_12476\\1982670828.py:1: FutureWarning: A value is trying to be set on a copy of a DataFrame or Series through chained assignment using an inplace method.\n",
      "The behavior will change in pandas 3.0. This inplace method will never work because the intermediate object on which we are setting values always behaves as a copy.\n",
      "\n",
      "For example, when doing 'df[col].method(value, inplace=True)', try using 'df.method({col: value}, inplace=True)' or df[col] = df[col].method(value) instead, to perform the operation inplace on the original object.\n",
      "\n",
      "\n",
      "  df.Churn.replace([\"true\", \"false\"], [1, 0], inplace= True)\n"
     ]
    }
   ],
   "source": [
    "df.Churn.replace([\"true\", \"false\"], [1, 0], inplace= True)\n",
    "df[\"Area code\"] = df[\"Area code\"].astype(object)"
   ]
  },
  {
   "cell_type": "markdown",
   "id": "c5dd9c32-db9c-4ee7-a2d1-4865851253be",
   "metadata": {},
   "source": [
    "## One hot encoding / dummies"
   ]
  },
  {
   "cell_type": "code",
   "execution_count": 60,
   "id": "07bcaa07-c4f1-4279-8539-6779ede492b2",
   "metadata": {},
   "outputs": [],
   "source": [
    "df = pd.get_dummies(df)"
   ]
  },
  {
   "cell_type": "code",
   "execution_count": 61,
   "id": "2c314507-7e08-42d5-a824-2e450b027998",
   "metadata": {},
   "outputs": [
    {
     "data": {
      "text/plain": [
       "Account length              int64\n",
       "Number vmail messages       int64\n",
       "Total day minutes         float64\n",
       "Total day calls             int64\n",
       "Total day charge          float64\n",
       "                           ...   \n",
       "Area code_510                bool\n",
       "International plan_No        bool\n",
       "International plan_Yes       bool\n",
       "Voice mail plan_No           bool\n",
       "Voice mail plan_Yes          bool\n",
       "Length: 74, dtype: object"
      ]
     },
     "execution_count": 61,
     "metadata": {},
     "output_type": "execute_result"
    }
   ],
   "source": [
    "datatypes = df.dtypes\n",
    "datatypes"
   ]
  },
  {
   "cell_type": "code",
   "execution_count": 62,
   "id": "24e44a7e-5e96-4566-800f-9c8ff9999d8c",
   "metadata": {},
   "outputs": [],
   "source": [
    "X = df.drop(\"Churn\", axis=1)\n",
    "y = df[\"Churn\"]"
   ]
  },
  {
   "cell_type": "code",
   "execution_count": 63,
   "id": "978ffe8e-128c-452e-9682-84e0d76f2ad4",
   "metadata": {},
   "outputs": [
    {
     "data": {
      "text/html": [
       "<table border=\"1\" class=\"dataframe\">\n",
       "  <thead>\n",
       "    <tr style=\"text-align: right;\">\n",
       "      <th></th>\n",
       "      <th>Account length</th>\n",
       "      <th>Number vmail messages</th>\n",
       "      <th>Total day minutes</th>\n",
       "      <th>Total day calls</th>\n",
       "      <th>Total day charge</th>\n",
       "      <th>Total eve minutes</th>\n",
       "      <th>Total eve calls</th>\n",
       "      <th>Total eve charge</th>\n",
       "      <th>Total night minutes</th>\n",
       "      <th>Total night calls</th>\n",
       "      <th>Total night charge</th>\n",
       "      <th>Total intl minutes</th>\n",
       "      <th>Total intl calls</th>\n",
       "      <th>Total intl charge</th>\n",
       "      <th>Customer service calls</th>\n",
       "      <th>Churn</th>\n",
       "      <th>State_AK</th>\n",
       "      <th>State_AL</th>\n",
       "      <th>State_AR</th>\n",
       "      <th>State_AZ</th>\n",
       "      <th>State_CA</th>\n",
       "      <th>State_CO</th>\n",
       "      <th>State_CT</th>\n",
       "      <th>State_DC</th>\n",
       "      <th>State_DE</th>\n",
       "      <th>State_FL</th>\n",
       "      <th>State_GA</th>\n",
       "      <th>State_HI</th>\n",
       "      <th>State_IA</th>\n",
       "      <th>State_ID</th>\n",
       "      <th>State_IL</th>\n",
       "      <th>State_IN</th>\n",
       "      <th>State_KS</th>\n",
       "      <th>State_KY</th>\n",
       "      <th>State_LA</th>\n",
       "      <th>State_MA</th>\n",
       "      <th>State_MD</th>\n",
       "      <th>State_ME</th>\n",
       "      <th>State_MI</th>\n",
       "      <th>State_MN</th>\n",
       "      <th>State_MO</th>\n",
       "      <th>State_MS</th>\n",
       "      <th>State_MT</th>\n",
       "      <th>State_NC</th>\n",
       "      <th>State_ND</th>\n",
       "      <th>State_NE</th>\n",
       "      <th>State_NH</th>\n",
       "      <th>State_NJ</th>\n",
       "      <th>State_NM</th>\n",
       "      <th>State_NV</th>\n",
       "      <th>State_NY</th>\n",
       "      <th>State_OH</th>\n",
       "      <th>State_OK</th>\n",
       "      <th>State_OR</th>\n",
       "      <th>State_PA</th>\n",
       "      <th>State_RI</th>\n",
       "      <th>State_SC</th>\n",
       "      <th>State_SD</th>\n",
       "      <th>State_TN</th>\n",
       "      <th>State_TX</th>\n",
       "      <th>State_UT</th>\n",
       "      <th>State_VA</th>\n",
       "      <th>State_VT</th>\n",
       "      <th>State_WA</th>\n",
       "      <th>State_WI</th>\n",
       "      <th>State_WV</th>\n",
       "      <th>State_WY</th>\n",
       "      <th>Area code_408</th>\n",
       "      <th>Area code_415</th>\n",
       "      <th>Area code_510</th>\n",
       "      <th>International plan_No</th>\n",
       "      <th>International plan_Yes</th>\n",
       "      <th>Voice mail plan_No</th>\n",
       "      <th>Voice mail plan_Yes</th>\n",
       "    </tr>\n",
       "  </thead>\n",
       "  <tbody>\n",
       "    <tr>\n",
       "      <th>0</th>\n",
       "      <td>117</td>\n",
       "      <td>0</td>\n",
       "      <td>184.5</td>\n",
       "      <td>97</td>\n",
       "      <td>31.37</td>\n",
       "      <td>351.6</td>\n",
       "      <td>80</td>\n",
       "      <td>29.89</td>\n",
       "      <td>215.8</td>\n",
       "      <td>90</td>\n",
       "      <td>9.71</td>\n",
       "      <td>8.7</td>\n",
       "      <td>4</td>\n",
       "      <td>2.35</td>\n",
       "      <td>1</td>\n",
       "      <td>False</td>\n",
       "      <td>False</td>\n",
       "      <td>False</td>\n",
       "      <td>False</td>\n",
       "      <td>False</td>\n",
       "      <td>False</td>\n",
       "      <td>False</td>\n",
       "      <td>False</td>\n",
       "      <td>False</td>\n",
       "      <td>False</td>\n",
       "      <td>False</td>\n",
       "      <td>False</td>\n",
       "      <td>False</td>\n",
       "      <td>False</td>\n",
       "      <td>False</td>\n",
       "      <td>False</td>\n",
       "      <td>False</td>\n",
       "      <td>False</td>\n",
       "      <td>False</td>\n",
       "      <td>True</td>\n",
       "      <td>False</td>\n",
       "      <td>False</td>\n",
       "      <td>False</td>\n",
       "      <td>False</td>\n",
       "      <td>False</td>\n",
       "      <td>False</td>\n",
       "      <td>False</td>\n",
       "      <td>False</td>\n",
       "      <td>False</td>\n",
       "      <td>False</td>\n",
       "      <td>False</td>\n",
       "      <td>False</td>\n",
       "      <td>False</td>\n",
       "      <td>False</td>\n",
       "      <td>False</td>\n",
       "      <td>False</td>\n",
       "      <td>False</td>\n",
       "      <td>False</td>\n",
       "      <td>False</td>\n",
       "      <td>False</td>\n",
       "      <td>False</td>\n",
       "      <td>False</td>\n",
       "      <td>False</td>\n",
       "      <td>False</td>\n",
       "      <td>False</td>\n",
       "      <td>False</td>\n",
       "      <td>False</td>\n",
       "      <td>False</td>\n",
       "      <td>False</td>\n",
       "      <td>False</td>\n",
       "      <td>False</td>\n",
       "      <td>False</td>\n",
       "      <td>True</td>\n",
       "      <td>False</td>\n",
       "      <td>False</td>\n",
       "      <td>True</td>\n",
       "      <td>False</td>\n",
       "      <td>True</td>\n",
       "      <td>False</td>\n",
       "    </tr>\n",
       "    <tr>\n",
       "      <th>1</th>\n",
       "      <td>65</td>\n",
       "      <td>0</td>\n",
       "      <td>129.1</td>\n",
       "      <td>137</td>\n",
       "      <td>21.95</td>\n",
       "      <td>228.5</td>\n",
       "      <td>83</td>\n",
       "      <td>19.42</td>\n",
       "      <td>208.8</td>\n",
       "      <td>111</td>\n",
       "      <td>9.40</td>\n",
       "      <td>12.7</td>\n",
       "      <td>6</td>\n",
       "      <td>3.43</td>\n",
       "      <td>4</td>\n",
       "      <td>True</td>\n",
       "      <td>False</td>\n",
       "      <td>False</td>\n",
       "      <td>False</td>\n",
       "      <td>False</td>\n",
       "      <td>False</td>\n",
       "      <td>False</td>\n",
       "      <td>False</td>\n",
       "      <td>False</td>\n",
       "      <td>False</td>\n",
       "      <td>False</td>\n",
       "      <td>False</td>\n",
       "      <td>False</td>\n",
       "      <td>False</td>\n",
       "      <td>False</td>\n",
       "      <td>False</td>\n",
       "      <td>True</td>\n",
       "      <td>False</td>\n",
       "      <td>False</td>\n",
       "      <td>False</td>\n",
       "      <td>False</td>\n",
       "      <td>False</td>\n",
       "      <td>False</td>\n",
       "      <td>False</td>\n",
       "      <td>False</td>\n",
       "      <td>False</td>\n",
       "      <td>False</td>\n",
       "      <td>False</td>\n",
       "      <td>False</td>\n",
       "      <td>False</td>\n",
       "      <td>False</td>\n",
       "      <td>False</td>\n",
       "      <td>False</td>\n",
       "      <td>False</td>\n",
       "      <td>False</td>\n",
       "      <td>False</td>\n",
       "      <td>False</td>\n",
       "      <td>False</td>\n",
       "      <td>False</td>\n",
       "      <td>False</td>\n",
       "      <td>False</td>\n",
       "      <td>False</td>\n",
       "      <td>False</td>\n",
       "      <td>False</td>\n",
       "      <td>False</td>\n",
       "      <td>False</td>\n",
       "      <td>False</td>\n",
       "      <td>False</td>\n",
       "      <td>False</td>\n",
       "      <td>False</td>\n",
       "      <td>False</td>\n",
       "      <td>False</td>\n",
       "      <td>False</td>\n",
       "      <td>True</td>\n",
       "      <td>False</td>\n",
       "      <td>True</td>\n",
       "      <td>False</td>\n",
       "      <td>True</td>\n",
       "      <td>False</td>\n",
       "    </tr>\n",
       "  </tbody>\n",
       "</table>"
      ],
      "text/plain": [
       "<IPython.core.display.HTML object>"
      ]
     },
     "metadata": {},
     "output_type": "display_data"
    }
   ],
   "source": [
    "display(HTML(df.head(2).to_html()))"
   ]
  },
  {
   "cell_type": "code",
   "execution_count": 64,
   "id": "eafc7057-a7bc-40dd-8986-4f539db48adb",
   "metadata": {},
   "outputs": [
    {
     "data": {
      "text/html": [
       "<div>\n",
       "<style scoped>\n",
       "    .dataframe tbody tr th:only-of-type {\n",
       "        vertical-align: middle;\n",
       "    }\n",
       "\n",
       "    .dataframe tbody tr th {\n",
       "        vertical-align: top;\n",
       "    }\n",
       "\n",
       "    .dataframe thead th {\n",
       "        text-align: right;\n",
       "    }\n",
       "</style>\n",
       "<table border=\"1\" class=\"dataframe\">\n",
       "  <thead>\n",
       "    <tr style=\"text-align: right;\">\n",
       "      <th></th>\n",
       "      <th>Account length</th>\n",
       "      <th>Number vmail messages</th>\n",
       "      <th>Total day minutes</th>\n",
       "      <th>Total day calls</th>\n",
       "      <th>Total day charge</th>\n",
       "      <th>Total eve minutes</th>\n",
       "      <th>Total eve calls</th>\n",
       "      <th>Total eve charge</th>\n",
       "      <th>Total night minutes</th>\n",
       "      <th>Total night calls</th>\n",
       "      <th>...</th>\n",
       "      <th>State_WI</th>\n",
       "      <th>State_WV</th>\n",
       "      <th>State_WY</th>\n",
       "      <th>Area code_408</th>\n",
       "      <th>Area code_415</th>\n",
       "      <th>Area code_510</th>\n",
       "      <th>International plan_No</th>\n",
       "      <th>International plan_Yes</th>\n",
       "      <th>Voice mail plan_No</th>\n",
       "      <th>Voice mail plan_Yes</th>\n",
       "    </tr>\n",
       "  </thead>\n",
       "  <tbody>\n",
       "    <tr>\n",
       "      <th>0</th>\n",
       "      <td>117</td>\n",
       "      <td>0</td>\n",
       "      <td>184.5</td>\n",
       "      <td>97</td>\n",
       "      <td>31.37</td>\n",
       "      <td>351.6</td>\n",
       "      <td>80</td>\n",
       "      <td>29.89</td>\n",
       "      <td>215.8</td>\n",
       "      <td>90</td>\n",
       "      <td>...</td>\n",
       "      <td>False</td>\n",
       "      <td>False</td>\n",
       "      <td>False</td>\n",
       "      <td>True</td>\n",
       "      <td>False</td>\n",
       "      <td>False</td>\n",
       "      <td>True</td>\n",
       "      <td>False</td>\n",
       "      <td>True</td>\n",
       "      <td>False</td>\n",
       "    </tr>\n",
       "    <tr>\n",
       "      <th>1</th>\n",
       "      <td>65</td>\n",
       "      <td>0</td>\n",
       "      <td>129.1</td>\n",
       "      <td>137</td>\n",
       "      <td>21.95</td>\n",
       "      <td>228.5</td>\n",
       "      <td>83</td>\n",
       "      <td>19.42</td>\n",
       "      <td>208.8</td>\n",
       "      <td>111</td>\n",
       "      <td>...</td>\n",
       "      <td>False</td>\n",
       "      <td>False</td>\n",
       "      <td>False</td>\n",
       "      <td>False</td>\n",
       "      <td>True</td>\n",
       "      <td>False</td>\n",
       "      <td>True</td>\n",
       "      <td>False</td>\n",
       "      <td>True</td>\n",
       "      <td>False</td>\n",
       "    </tr>\n",
       "  </tbody>\n",
       "</table>\n",
       "<p>2 rows × 73 columns</p>\n",
       "</div>"
      ],
      "text/plain": [
       "   Account length  Number vmail messages  Total day minutes  Total day calls  \\\n",
       "0             117                      0              184.5               97   \n",
       "1              65                      0              129.1              137   \n",
       "\n",
       "   Total day charge  Total eve minutes  Total eve calls  Total eve charge  \\\n",
       "0             31.37              351.6               80             29.89   \n",
       "1             21.95              228.5               83             19.42   \n",
       "\n",
       "   Total night minutes  Total night calls  ...  State_WI  State_WV  State_WY  \\\n",
       "0                215.8                 90  ...     False     False     False   \n",
       "1                208.8                111  ...     False     False     False   \n",
       "\n",
       "   Area code_408  Area code_415  Area code_510  International plan_No  \\\n",
       "0           True          False          False                   True   \n",
       "1          False           True          False                   True   \n",
       "\n",
       "   International plan_Yes  Voice mail plan_No  Voice mail plan_Yes  \n",
       "0                   False                True                False  \n",
       "1                   False                True                False  \n",
       "\n",
       "[2 rows x 73 columns]"
      ]
     },
     "execution_count": 64,
     "metadata": {},
     "output_type": "execute_result"
    }
   ],
   "source": [
    "X.head(2)"
   ]
  },
  {
   "cell_type": "markdown",
   "id": "bbdf14dc-fa54-403a-a56b-8700e849c931",
   "metadata": {},
   "source": [
    "## Compute correlations between all variables and 'Churn'"
   ]
  },
  {
   "cell_type": "code",
   "execution_count": 65,
   "id": "b494f3d1-e813-490d-ac69-42131d2f9e70",
   "metadata": {},
   "outputs": [
    {
     "data": {
      "text/plain": [
       "0    False\n",
       "1     True\n",
       "Name: Churn, dtype: bool"
      ]
     },
     "execution_count": 65,
     "metadata": {},
     "output_type": "execute_result"
    }
   ],
   "source": [
    "y.head(2)"
   ]
  },
  {
   "cell_type": "code",
   "execution_count": 66,
   "id": "e1d9a3bd-807f-4e96-aaa4-87fd24c3d042",
   "metadata": {},
   "outputs": [],
   "source": [
    "correlations = df.corr()[\"Churn\"].drop(\"Churn\").sort_values()"
   ]
  },
  {
   "cell_type": "code",
   "execution_count": 78,
   "id": "c2ac64d5-c1ee-4448-8605-93c000ab299b",
   "metadata": {},
   "outputs": [
    {
     "data": {
      "image/png": "[encoded data removed]",
      "text/plain": [
       "<Figure size 1200x800 with 1 Axes>"
      ]
     },
     "metadata": {},
     "output_type": "display_data"
    }
   ],
   "source": [
    "# Generate a color palette from red to green\n",
    "colors = sns.diverging_palette(10, 130, as_cmap=True)\n",
    "color_mapped = correlations.map(colors)\n",
    "\n",
    "# Set Seaborn style\n",
    "sns.set_style(\n",
    "    \"whitegrid\", {\"axes.facecolor\": \"#c2c4c2\", \"grid.linewidth\": 1.5}\n",
    ")  # Light grey background and thicker grid lines\n",
    "\n",
    "# Create bar plot\n",
    "fig = plt.figure(figsize=(12, 8))\n",
    "plt.barh(correlations.index, correlations.values, color=color_mapped)\n",
    "\n",
    "# Set labels and title with increased font size\n",
    "plt.title(\"Correlation with Churn\", fontsize=18)\n",
    "plt.xlabel(\"Correlation Coefficient\", fontsize=16)\n",
    "plt.ylabel(\"Variable\", fontsize=16)\n",
    "plt.xticks(fontsize=14)\n",
    "plt.yticks(fontsize=8)\n",
    "plt.grid(axis=\"x\")\n",
    "\n",
    "plt.tight_layout()\n"
   ]
  },
  {
   "cell_type": "code",
   "execution_count": 79,
   "id": "45337fe1-b954-40c7-9ece-735b613bd31f",
   "metadata": {},
   "outputs": [
    {
     "data": {
      "text/plain": [
       "Account length              int64\n",
       "Number vmail messages       int64\n",
       "Total day minutes         float64\n",
       "Total day calls             int64\n",
       "Total day charge          float64\n",
       "                           ...   \n",
       "Area code_510                bool\n",
       "International plan_No        bool\n",
       "International plan_Yes       bool\n",
       "Voice mail plan_No           bool\n",
       "Voice mail plan_Yes          bool\n",
       "Length: 74, dtype: object"
      ]
     },
     "execution_count": 79,
     "metadata": {},
     "output_type": "execute_result"
    }
   ],
   "source": [
    "datatypes = df.dtypes\n",
    "datatypes"
   ]
  },
  {
   "cell_type": "markdown",
   "id": "b8099896-9e59-448d-b1af-f4a7c5642886",
   "metadata": {},
   "source": [
    "## Split the data into train and test data sets"
   ]
  },
  {
   "cell_type": "code",
   "execution_count": 69,
   "id": "af943a95-2ff7-4b33-b574-d10677ba3b6a",
   "metadata": {},
   "outputs": [
    {
     "data": {
      "text/plain": [
       "(533, 73)"
      ]
     },
     "execution_count": 69,
     "metadata": {},
     "output_type": "execute_result"
    }
   ],
   "source": [
    "X_train, X_test, y_train, y_test = train_test_split(X, y, train_size=0.8, test_size=0.2, random_state=123)\n",
    "X_train.shape"
   ]
  },
  {
   "cell_type": "code",
   "execution_count": 70,
   "id": "d769c9eb-e606-42b7-8a2a-fc3af570396e",
   "metadata": {},
   "outputs": [],
   "source": [
    "# Convert X_train and X_test to float32\n",
    "X_train = np.array(X_train, dtype=np.float32)\n",
    "X_test = np.array(X_test, dtype=np.float32)\n",
    "\n",
    "# Convert y_train and y_test to float32 or int64\n",
    "y_train = np.array(y_train, dtype=np.float32)  # or dtype=np.int64 for classification\n",
    "y_test = np.array(y_test, dtype=np.float32)  # or dtype=np.int64 for classification"
   ]
  },
  {
   "cell_type": "code",
   "execution_count": 71,
   "id": "3d4ea80a-866b-4341-8134-abaaae0956fc",
   "metadata": {},
   "outputs": [
    {
     "name": "stderr",
     "output_type": "stream",
     "text": [
      "2024/07/21 06:36:31 INFO mlflow.tracking.fluent: Autologging successfully enabled for tensorflow.\n",
      "2024/07/21 06:36:31 INFO mlflow.tracking.fluent: Autologging successfully enabled for keras.\n",
      "2024/07/21 06:36:31 INFO mlflow.tracking.fluent: Autologging successfully enabled for sklearn.\n"
     ]
    }
   ],
   "source": [
    "# set the experiment id\n",
    "mlflow.set_experiment(experiment_id=\"0\")\n",
    "\n",
    "mlflow.autolog()\n"
   ]
  },
  {
   "cell_type": "markdown",
   "id": "c7afc3e8-484c-4549-af85-f42b1b5f2ca6",
   "metadata": {},
   "source": [
    "## Setup a keras sequencial Neural Network model"
   ]
  },
  {
   "cell_type": "code",
   "execution_count": 72,
   "id": "09524fd6-5a34-4b1b-aa4e-e5af83f9b7c1",
   "metadata": {},
   "outputs": [
    {
     "name": "stdout",
     "output_type": "stream",
     "text": [
      "Epoch 1/71\n",
      " 1/27 [>.............................] - ETA: 1:01 - loss: 22.7399 - accuracy: 0.4000WARNING:tensorflow:Callback method `on_train_batch_end` is slow compared to the batch time (batch time: 0.0029s vs `on_train_batch_end` time: 0.0660s). Check your callbacks.\n",
      "27/27 [==============================] - 3s 25ms/step - loss: 11.0677 - accuracy: 0.4991 - val_loss: 2.0153 - val_accuracy: 0.8060\n",
      "Epoch 2/71\n",
      "27/27 [==============================] - 0s 8ms/step - loss: 4.0596 - accuracy: 0.7523 - val_loss: 1.8393 - val_accuracy: 0.8284\n",
      "Epoch 3/71\n",
      "27/27 [==============================] - 0s 10ms/step - loss: 2.6587 - accuracy: 0.7523 - val_loss: 1.2615 - val_accuracy: 0.7090\n",
      "Epoch 4/71\n",
      "27/27 [==============================] - 0s 9ms/step - loss: 2.0558 - accuracy: 0.7955 - val_loss: 0.7790 - val_accuracy: 0.7985\n",
      "Epoch 5/71\n",
      "27/27 [==============================] - 0s 11ms/step - loss: 1.3732 - accuracy: 0.8068 - val_loss: 0.6904 - val_accuracy: 0.8209\n",
      "Epoch 6/71\n",
      "27/27 [==============================] - 0s 11ms/step - loss: 1.1310 - accuracy: 0.8330 - val_loss: 0.6686 - val_accuracy: 0.8358\n",
      "Epoch 7/71\n",
      "27/27 [==============================] - 0s 11ms/step - loss: 1.0438 - accuracy: 0.8368 - val_loss: 0.6567 - val_accuracy: 0.8433\n",
      "Epoch 8/71\n",
      "27/27 [==============================] - 0s 12ms/step - loss: 0.8858 - accuracy: 0.8462 - val_loss: 0.6488 - val_accuracy: 0.8433\n",
      "Epoch 9/71\n",
      "27/27 [==============================] - 0s 10ms/step - loss: 0.7618 - accuracy: 0.8499 - val_loss: 0.6405 - val_accuracy: 0.8433\n",
      "Epoch 10/71\n",
      "27/27 [==============================] - 0s 9ms/step - loss: 0.7517 - accuracy: 0.8574 - val_loss: 0.6328 - val_accuracy: 0.8433\n",
      "Epoch 11/71\n",
      "27/27 [==============================] - 0s 9ms/step - loss: 0.6557 - accuracy: 0.8480 - val_loss: 0.6252 - val_accuracy: 0.8433\n",
      "Epoch 12/71\n",
      "27/27 [==============================] - 0s 13ms/step - loss: 0.7712 - accuracy: 0.8555 - val_loss: 0.6179 - val_accuracy: 0.8433\n",
      "Epoch 13/71\n",
      "27/27 [==============================] - 0s 11ms/step - loss: 0.6697 - accuracy: 0.8574 - val_loss: 0.6108 - val_accuracy: 0.8433\n",
      "Epoch 14/71\n",
      "27/27 [==============================] - 0s 10ms/step - loss: 0.6741 - accuracy: 0.8499 - val_loss: 0.6038 - val_accuracy: 0.8433\n",
      "Epoch 15/71\n",
      "27/27 [==============================] - 0s 9ms/step - loss: 0.6303 - accuracy: 0.8593 - val_loss: 0.5974 - val_accuracy: 0.8433\n",
      "Epoch 16/71\n",
      "27/27 [==============================] - 0s 10ms/step - loss: 0.7163 - accuracy: 0.8593 - val_loss: 0.5912 - val_accuracy: 0.8433\n",
      "Epoch 17/71\n",
      "27/27 [==============================] - 0s 10ms/step - loss: 0.5843 - accuracy: 0.8555 - val_loss: 0.5849 - val_accuracy: 0.8433\n",
      "Epoch 18/71\n",
      "27/27 [==============================] - 0s 10ms/step - loss: 0.5308 - accuracy: 0.8574 - val_loss: 0.5734 - val_accuracy: 0.8433\n",
      "Epoch 19/71\n",
      "27/27 [==============================] - 0s 9ms/step - loss: 0.6509 - accuracy: 0.8574 - val_loss: 0.5655 - val_accuracy: 0.8433\n",
      "Epoch 20/71\n",
      "27/27 [==============================] - 0s 11ms/step - loss: 0.6511 - accuracy: 0.8555 - val_loss: 0.5617 - val_accuracy: 0.8433\n",
      "Epoch 21/71\n",
      "27/27 [==============================] - 0s 11ms/step - loss: 0.5467 - accuracy: 0.8593 - val_loss: 0.5473 - val_accuracy: 0.8433\n",
      "Epoch 22/71\n",
      "27/27 [==============================] - 0s 12ms/step - loss: 0.5950 - accuracy: 0.8555 - val_loss: 0.5266 - val_accuracy: 0.8433\n",
      "Epoch 23/71\n",
      "27/27 [==============================] - 0s 11ms/step - loss: 0.5377 - accuracy: 0.8593 - val_loss: 0.5218 - val_accuracy: 0.8433\n",
      "Epoch 24/71\n",
      "27/27 [==============================] - 0s 11ms/step - loss: 0.5726 - accuracy: 0.8593 - val_loss: 0.5072 - val_accuracy: 0.8433\n",
      "Epoch 25/71\n",
      "27/27 [==============================] - 0s 10ms/step - loss: 0.5111 - accuracy: 0.8574 - val_loss: 0.4796 - val_accuracy: 0.8433\n",
      "Epoch 26/71\n",
      "27/27 [==============================] - 0s 10ms/step - loss: 0.4819 - accuracy: 0.8593 - val_loss: 0.4774 - val_accuracy: 0.8433\n",
      "Epoch 27/71\n",
      "27/27 [==============================] - 0s 10ms/step - loss: 0.5752 - accuracy: 0.8555 - val_loss: 0.4598 - val_accuracy: 0.8433\n",
      "Epoch 28/71\n",
      "27/27 [==============================] - 0s 6ms/step - loss: 0.5309 - accuracy: 0.8518 - val_loss: 0.4729 - val_accuracy: 0.8433\n",
      "Epoch 29/71\n",
      "27/27 [==============================] - 0s 8ms/step - loss: 0.4853 - accuracy: 0.8574 - val_loss: 0.4617 - val_accuracy: 0.8433\n",
      "Epoch 30/71\n",
      "27/27 [==============================] - 0s 10ms/step - loss: 0.4488 - accuracy: 0.8537 - val_loss: 0.4512 - val_accuracy: 0.8433\n",
      "Epoch 31/71\n",
      "27/27 [==============================] - 0s 9ms/step - loss: 0.4707 - accuracy: 0.8574 - val_loss: 0.4508 - val_accuracy: 0.8433\n",
      "Epoch 32/71\n",
      "27/27 [==============================] - 0s 12ms/step - loss: 0.4767 - accuracy: 0.8612 - val_loss: 0.4501 - val_accuracy: 0.8433\n",
      "Epoch 33/71\n",
      "27/27 [==============================] - 0s 10ms/step - loss: 0.4312 - accuracy: 0.8612 - val_loss: 0.4495 - val_accuracy: 0.8433\n",
      "Epoch 34/71\n",
      "27/27 [==============================] - 0s 10ms/step - loss: 0.4408 - accuracy: 0.8612 - val_loss: 0.4511 - val_accuracy: 0.8433\n",
      "Epoch 35/71\n",
      "27/27 [==============================] - 0s 13ms/step - loss: 0.4914 - accuracy: 0.8612 - val_loss: 0.4524 - val_accuracy: 0.8433\n",
      "Epoch 36/71\n",
      "27/27 [==============================] - 0s 14ms/step - loss: 0.4479 - accuracy: 0.8537 - val_loss: 0.4492 - val_accuracy: 0.8433\n",
      "Epoch 37/71\n",
      "27/27 [==============================] - 0s 9ms/step - loss: 0.4831 - accuracy: 0.8574 - val_loss: 0.4544 - val_accuracy: 0.8433\n",
      "Epoch 38/71\n",
      "27/27 [==============================] - 0s 14ms/step - loss: 0.4479 - accuracy: 0.8593 - val_loss: 0.4477 - val_accuracy: 0.8433\n",
      "Epoch 39/71\n",
      "27/27 [==============================] - 0s 11ms/step - loss: 0.4874 - accuracy: 0.8593 - val_loss: 0.4467 - val_accuracy: 0.8433\n",
      "Epoch 40/71\n",
      "27/27 [==============================] - 0s 9ms/step - loss: 0.4568 - accuracy: 0.8593 - val_loss: 0.4472 - val_accuracy: 0.8433\n",
      "Epoch 41/71\n",
      "27/27 [==============================] - 0s 8ms/step - loss: 0.4632 - accuracy: 0.8593 - val_loss: 0.4504 - val_accuracy: 0.8433\n",
      "Epoch 42/71\n",
      "27/27 [==============================] - 0s 12ms/step - loss: 0.4477 - accuracy: 0.8574 - val_loss: 0.4487 - val_accuracy: 0.8433\n",
      "Epoch 43/71\n",
      "27/27 [==============================] - 0s 10ms/step - loss: 0.4455 - accuracy: 0.8593 - val_loss: 0.4469 - val_accuracy: 0.8433\n",
      "Epoch 44/71\n",
      "27/27 [==============================] - 0s 8ms/step - loss: 0.4546 - accuracy: 0.8574 - val_loss: 0.4472 - val_accuracy: 0.8433\n",
      "Epoch 45/71\n",
      "27/27 [==============================] - 0s 9ms/step - loss: 0.4563 - accuracy: 0.8593 - val_loss: 0.4490 - val_accuracy: 0.8433\n",
      "Epoch 46/71\n",
      "27/27 [==============================] - 0s 15ms/step - loss: 0.4660 - accuracy: 0.8537 - val_loss: 0.4484 - val_accuracy: 0.8433\n",
      "Epoch 47/71\n",
      "27/27 [==============================] - 0s 17ms/step - loss: 0.4451 - accuracy: 0.8612 - val_loss: 0.4463 - val_accuracy: 0.8433\n",
      "Epoch 48/71\n",
      "27/27 [==============================] - 0s 16ms/step - loss: 0.4317 - accuracy: 0.8612 - val_loss: 0.4460 - val_accuracy: 0.8433\n",
      "Epoch 49/71\n",
      "27/27 [==============================] - 0s 16ms/step - loss: 0.4311 - accuracy: 0.8593 - val_loss: 0.4438 - val_accuracy: 0.8433\n",
      "Epoch 50/71\n",
      "27/27 [==============================] - 0s 10ms/step - loss: 0.4421 - accuracy: 0.8630 - val_loss: 0.4477 - val_accuracy: 0.8433\n",
      "Epoch 51/71\n",
      "27/27 [==============================] - 0s 14ms/step - loss: 0.4262 - accuracy: 0.8574 - val_loss: 0.4426 - val_accuracy: 0.8433\n",
      "Epoch 52/71\n",
      "27/27 [==============================] - 0s 10ms/step - loss: 0.4626 - accuracy: 0.8612 - val_loss: 0.4456 - val_accuracy: 0.8433\n",
      "Epoch 53/71\n",
      "27/27 [==============================] - 0s 13ms/step - loss: 0.4265 - accuracy: 0.8612 - val_loss: 0.4443 - val_accuracy: 0.8433\n",
      "Epoch 54/71\n",
      "27/27 [==============================] - 0s 14ms/step - loss: 0.4331 - accuracy: 0.8593 - val_loss: 0.4433 - val_accuracy: 0.8433\n",
      "Epoch 55/71\n",
      "27/27 [==============================] - 0s 14ms/step - loss: 0.4222 - accuracy: 0.8612 - val_loss: 0.4414 - val_accuracy: 0.8433\n",
      "Epoch 56/71\n",
      "27/27 [==============================] - 0s 9ms/step - loss: 0.4384 - accuracy: 0.8593 - val_loss: 0.4459 - val_accuracy: 0.8433\n",
      "Epoch 57/71\n",
      "27/27 [==============================] - 0s 13ms/step - loss: 0.4315 - accuracy: 0.8593 - val_loss: 0.4411 - val_accuracy: 0.8433\n",
      "Epoch 58/71\n",
      "27/27 [==============================] - 0s 9ms/step - loss: 0.4800 - accuracy: 0.8612 - val_loss: 0.4439 - val_accuracy: 0.8433\n",
      "Epoch 59/71\n",
      "27/27 [==============================] - 0s 14ms/step - loss: 0.4497 - accuracy: 0.8593 - val_loss: 0.4418 - val_accuracy: 0.8433\n",
      "Epoch 60/71\n",
      "27/27 [==============================] - 0s 12ms/step - loss: 0.4202 - accuracy: 0.8593 - val_loss: 0.4409 - val_accuracy: 0.8433\n",
      "Epoch 61/71\n",
      "27/27 [==============================] - 0s 8ms/step - loss: 0.4407 - accuracy: 0.8612 - val_loss: 0.4415 - val_accuracy: 0.8433\n",
      "Epoch 62/71\n",
      "27/27 [==============================] - 0s 11ms/step - loss: 0.4098 - accuracy: 0.8612 - val_loss: 0.4408 - val_accuracy: 0.8433\n",
      "Epoch 63/71\n",
      "27/27 [==============================] - 0s 12ms/step - loss: 0.4158 - accuracy: 0.8630 - val_loss: 0.4402 - val_accuracy: 0.8433\n",
      "Epoch 64/71\n",
      "27/27 [==============================] - 0s 7ms/step - loss: 0.4553 - accuracy: 0.8555 - val_loss: 0.4411 - val_accuracy: 0.8433\n",
      "Epoch 65/71\n",
      "27/27 [==============================] - 0s 11ms/step - loss: 0.4260 - accuracy: 0.8593 - val_loss: 0.4410 - val_accuracy: 0.8433\n",
      "Epoch 66/71\n",
      "27/27 [==============================] - 0s 6ms/step - loss: 0.4394 - accuracy: 0.8593 - val_loss: 0.4418 - val_accuracy: 0.8433\n",
      "Epoch 67/71\n",
      "27/27 [==============================] - 0s 11ms/step - loss: 0.4158 - accuracy: 0.8612 - val_loss: 0.4399 - val_accuracy: 0.8433\n",
      "Epoch 68/71\n",
      "27/27 [==============================] - 0s 8ms/step - loss: 0.4272 - accuracy: 0.8593 - val_loss: 0.4399 - val_accuracy: 0.8433\n",
      "Epoch 69/71\n",
      "27/27 [==============================] - 0s 11ms/step - loss: 0.4079 - accuracy: 0.8612 - val_loss: 0.4398 - val_accuracy: 0.8433\n",
      "Epoch 70/71\n",
      "27/27 [==============================] - 0s 7ms/step - loss: 0.4261 - accuracy: 0.8593 - val_loss: 0.4399 - val_accuracy: 0.8433\n",
      "Epoch 71/71\n",
      "27/27 [==============================] - 0s 8ms/step - loss: 0.4190 - accuracy: 0.8593 - val_loss: 0.4400 - val_accuracy: 0.8433\n",
      "1/1 [==============================] - 0s 196ms/step\n",
      "INFO:tensorflow:Assets written to: C:\\Users\\nnagt\\AppData\\Local\\Temp\\tmpi173g6gu\\model\\data\\model\\assets\n"
     ]
    },
    {
     "name": "stderr",
     "output_type": "stream",
     "text": [
      "2024/07/21 06:37:21 WARNING mlflow.tensorflow: You are saving a TensorFlow Core model or Keras model without a signature. Inference with mlflow.pyfunc.spark_udf() will not work unless the model's pyfunc representation accepts pandas DataFrames as inference inputs.\n"
     ]
    },
    {
     "name": "stdout",
     "output_type": "stream",
     "text": [
      "INFO:tensorflow:Assets written to: C:\\Users\\nnagt\\AppData\\Local\\Temp\\tmpvlnyhos7\\model\\data\\model\\assets\n"
     ]
    }
   ],
   "source": [
    "with mlflow.start_run() as run:\n",
    "    nn_model = Sequential()\n",
    "    nn_model.add(Dense(16, input_dim=73, activation='relu', kernel_constraint=maxnorm(3)))\n",
    "    \n",
    "    # Add a dropout layer to avoid overfitting\n",
    "    nn_model.add(Dropout(rate=0.2))\n",
    "    \n",
    "    nn_model.add(Dense(8, activation='relu', kernel_constraint=maxnorm(3)))\n",
    "    \n",
    "    # Add a dropout layer to avoid overfitting\n",
    "    nn_model.add(Dropout(rate=0.2))\n",
    "    \n",
    "    nn_model.add(Dense(1, activation='sigmoid'))\n",
    "    \n",
    "    nn_model.compile(loss = \"binary_crossentropy\", optimizer = 'adam', metrics=['accuracy'])\n",
    "    \n",
    "    # Log parameters\n",
    "    mlflow.log_param(\"input_dim\", 73)\n",
    "    mlflow.log_param(\"epochs\", 71)\n",
    "    mlflow.log_param(\"batch_size\", 20)\n",
    "    mlflow.log_param(\"dropout_rate\", 0.2)\n",
    "    \n",
    "    history = nn_model.fit(X_train, y_train, validation_data=(X_test, y_test), epochs=71, batch_size=20)\n",
    "\n",
    "    # Log the model\n",
    "    mlflow.keras.log_model(nn_model, \"model\")\n",
    "\n",
    "    # Log metrics\n",
    "    for epoch in range(len(history.history['loss'])):\n",
    "        mlflow.log_metric(\"train_loss\", history.history['loss'][epoch], step=epoch)\n",
    "        mlflow.log_metric(\"val_loss\", history.history['val_loss'][epoch], step=epoch)\n",
    "        mlflow.log_metric(\"train_accuracy\", history.history['accuracy'][epoch], step=epoch)\n",
    "        mlflow.log_metric(\"val_accuracy\", history.history['val_accuracy'][epoch], step=epoch)\n"
   ]
  },
  {
   "cell_type": "code",
   "execution_count": 73,
   "id": "a68c3df9-371f-48f4-9b9a-c5c307cc0096",
   "metadata": {},
   "outputs": [
    {
     "data": {
      "text/plain": [
       "<keras.callbacks.History at 0x21999616cb0>"
      ]
     },
     "execution_count": 73,
     "metadata": {},
     "output_type": "execute_result"
    }
   ],
   "source": [
    "history"
   ]
  },
  {
   "cell_type": "markdown",
   "id": "7960bfbb-6493-4080-af5d-dfb6d4bc7084",
   "metadata": {},
   "source": [
    "## Plot the history"
   ]
  },
  {
   "cell_type": "code",
   "execution_count": 74,
   "id": "4ce21346-655d-49ca-acca-c0f3804b77a0",
   "metadata": {},
   "outputs": [],
   "source": [
    "# Plotting the history\n",
    "def plot_history(history):\n",
    "    # Summarize history for accuracy\n",
    "    plt.figure(figsize=(12, 4))\n",
    "\n",
    "    plt.subplot(1, 2, 1)\n",
    "    plt.plot(history.history['accuracy'])\n",
    "    plt.plot(history.history['val_accuracy'])\n",
    "    plt.title('Model accuracy')\n",
    "    plt.ylabel('Accuracy')\n",
    "    plt.xlabel('Epoch')\n",
    "    plt.legend(['Train', 'Validation'], loc='upper left')\n",
    "\n",
    "    # Summarize history for loss\n",
    "    plt.subplot(1, 2, 2)\n",
    "    plt.plot(history.history['loss'])\n",
    "    plt.plot(history.history['val_loss'])\n",
    "    plt.title('Model loss')\n",
    "    plt.ylabel('Loss')\n",
    "    plt.xlabel('Epoch')\n",
    "    plt.legend(['Train', 'Validation'], loc='upper left')\n",
    "\n",
    "    plt.show()\n"
   ]
  },
  {
   "cell_type": "code",
   "execution_count": 75,
   "id": "be6f7988-7a85-4008-a98a-42651e8a561f",
   "metadata": {
    "scrolled": true
   },
   "outputs": [
    {
     "data": {
      "image/png": "[encoded data removed]",
      "text/plain": [
       "<Figure size 1200x400 with 2 Axes>"
      ]
     },
     "metadata": {},
     "output_type": "display_data"
    }
   ],
   "source": [
    "# Call the function to plot the history\n",
    "plot_history(history)"
   ]
  },
  {
   "cell_type": "code",
   "execution_count": null,
   "id": "4a9e9a10-0e88-4816-ba84-50483fdf6ba8",
   "metadata": {},
   "outputs": [],
   "source": []
  },
  {
   "cell_type": "code",
   "execution_count": null,
   "id": "765e16ba-62d7-46ef-bbc3-99fc7f91229b",
   "metadata": {},
   "outputs": [],
   "source": []
  }
 ],
 "metadata": {
  "kernelspec": {
   "display_name": "Python 3 (ipykernel)",
   "language": "python",
   "name": "python3"
  },
  "language_info": {
   "codemirror_mode": {
    "name": "ipython",
    "version": 3
   },
   "file_extension": ".py",
   "mimetype": "text/x-python",
   "name": "python",
   "nbconvert_exporter": "python",
   "pygments_lexer": "ipython3",
   "version": "3.10.13"
  }
 },
 "nbformat": 4,
 "nbformat_minor": 5
}
